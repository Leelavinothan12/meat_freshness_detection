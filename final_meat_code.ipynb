{
 "cells": [
  {
   "cell_type": "code",
   "execution_count": 1,
   "id": "d6270d9e-33e6-4b07-9430-158ff559d7c1",
   "metadata": {
    "tags": []
   },
   "outputs": [],
   "source": [
    "import numpy as np\n",
    "import pandas as pd\n",
    "import os\n",
    "import shutil"
   ]
  },
  {
   "cell_type": "code",
   "execution_count": 2,
   "id": "b4f7e7ec-e0cc-4d64-81f9-5fbe544bda43",
   "metadata": {
    "tags": []
   },
   "outputs": [],
   "source": [
    "\n",
    "# Input data files are available in the \"../input/Meat Freshness.v1-new-dataset.multiclass\" directory\n",
    "base_dir = r\".\\Meat Freshness.v1-new-dataset.multiclass\"\n"
   ]
  },
  {
   "cell_type": "code",
   "execution_count": 3,
   "id": "17569598-2eea-4d6b-b249-a86f3da8786c",
   "metadata": {
    "tags": []
   },
   "outputs": [],
   "source": [
    "# Define input and output directories\n",
    "base_kaggle_path = \"dataset\"\n",
    "paths = [\"train\", \"val\"]\n",
    "classes = [\"FRESH\", \"USABLE\", \"SPOILED\"]\n"
   ]
  },
  {
   "cell_type": "code",
   "execution_count": 4,
   "id": "a67e0eaf-df35-48c2-96a8-227566b8c7d7",
   "metadata": {
    "tags": []
   },
   "outputs": [],
   "source": [
    "# Create folder structure\n",
    "for i in range(len(paths)):\n",
    "    for j in range(len(classes)):\n",
    "        sub_folder = os.path.join(paths[i], classes[j])\n",
    "        os.makedirs(os.path.join(base_kaggle_path, sub_folder), exist_ok=True)"
   ]
  },
  {
   "cell_type": "code",
   "execution_count": 5,
   "id": "335439c1-9ac9-4909-a143-db0446dd6f68",
   "metadata": {
    "tags": []
   },
   "outputs": [],
   "source": [
    "# Copy files to the appropriate folders\n",
    "train_path = os.path.join(base_dir, \"train\")\n",
    "for filename in os.listdir(train_path):\n",
    "    if filename.startswith(\"FRESH\"):\n",
    "        shutil.copy(os.path.join(train_path, filename), os.path.join(base_kaggle_path, \"train\", \"FRESH\"))\n",
    "    elif filename.startswith(\"HALF-FRESH\"):\n",
    "        shutil.copy(os.path.join(train_path, filename), os.path.join(base_kaggle_path, \"train\", \"USABLE\"))\n",
    "    elif filename.startswith(\"SPOILED\"):\n",
    "        shutil.copy(os.path.join(train_path, filename), os.path.join(base_kaggle_path, \"train\", \"SPOILED\"))\n",
    "\n",
    "val_path = os.path.join(base_dir, \"valid\")\n",
    "for filename in os.listdir(val_path):\n",
    "    if filename.startswith(\"FRESH\"):\n",
    "        shutil.copy(os.path.join(val_path, filename), os.path.join(base_kaggle_path, \"val\", \"FRESH\"))\n",
    "    elif filename.startswith(\"HALF-FRESH\"):\n",
    "        \n",
    "        shutil.copy(os.path.join(val_path, filename), os.path.join(base_kaggle_path, \"val\", \"USABLE\"))\n",
    "    elif filename.startswith(\"SPOILED\"):\n",
    "        shutil.copy(os.path.join(val_path, filename), os.path.join(base_kaggle_path, \"val\", \"SPOILED\"))"
   ]
  },
  {
   "cell_type": "code",
   "execution_count": 6,
   "id": "bb738327-162a-4075-94d4-ddb1eedf4fce",
   "metadata": {
    "tags": []
   },
   "outputs": [
    {
     "name": "stdout",
     "output_type": "stream",
     "text": [
      "Training:\n",
      "675\n",
      "630\n",
      "510\n",
      "\n",
      "Validation:\n",
      "178\n",
      "159\n",
      "114\n"
     ]
    }
   ],
   "source": [
    "\n",
    "# Print dataset statistics\n",
    "print(\"Training:\")\n",
    "print(len(os.listdir(os.path.join(base_kaggle_path, \"train\", \"FRESH\"))))\n",
    "print(len(os.listdir(os.path.join(base_kaggle_path, \"train\", \"USABLE\"))))\n",
    "print(len(os.listdir(os.path.join(base_kaggle_path, \"train\", \"SPOILED\"))))\n",
    "\n",
    "print(\"\\nValidation:\")\n",
    "print(len(os.listdir(os.path.join(base_kaggle_path, \"val\", \"FRESH\"))))\n",
    "print(len(os.listdir(os.path.join(base_kaggle_path, \"val\", \"USABLE\"))))\n",
    "print(len(os.listdir(os.path.join(base_kaggle_path, \"val\", \"SPOILED\"))))"
   ]
  },
  {
   "cell_type": "code",
   "execution_count": 9,
   "id": "c6072743-80c0-4a51-8aff-1f821cda499f",
   "metadata": {
    "tags": []
   },
   "outputs": [
    {
     "name": "stdout",
     "output_type": "stream",
     "text": [
      "New https://pypi.org/project/ultralytics/8.2.92 available  Update with 'pip install -U ultralytics'\n",
      "Ultralytics YOLOv8.2.91  Python-3.11.9 torch-2.3.0 CPU (AMD Ryzen 7 4800H with Radeon Graphics)\n",
      "\u001b[34m\u001b[1mengine\\trainer: \u001b[0mtask=classify, mode=train, model=yolov8x-cls.pt, data=dataset, epochs=10, time=None, patience=100, batch=16, imgsz=224, save=True, save_period=-1, cache=False, device=None, workers=8, project=None, name=train2, exist_ok=False, pretrained=True, optimizer=auto, verbose=True, seed=0, deterministic=True, single_cls=False, rect=False, cos_lr=False, close_mosaic=10, resume=False, amp=True, fraction=1.0, profile=False, freeze=None, multi_scale=False, overlap_mask=True, mask_ratio=4, dropout=0.0, val=True, split=val, save_json=False, save_hybrid=False, conf=None, iou=0.7, max_det=300, half=False, dnn=False, plots=True, source=None, vid_stride=1, stream_buffer=False, visualize=False, augment=False, agnostic_nms=False, classes=None, retina_masks=False, embed=None, show=False, save_frames=False, save_txt=False, save_conf=False, save_crop=False, show_labels=True, show_conf=True, show_boxes=True, line_width=None, format=torchscript, keras=False, optimize=False, int8=False, dynamic=False, simplify=False, opset=None, workspace=4, nms=False, lr0=0.01, lrf=0.01, momentum=0.937, weight_decay=0.0005, warmup_epochs=3.0, warmup_momentum=0.8, warmup_bias_lr=0.1, box=7.5, cls=0.5, dfl=1.5, pose=12.0, kobj=1.0, label_smoothing=0.0, nbs=64, hsv_h=0.015, hsv_s=0.7, hsv_v=0.4, degrees=0.0, translate=0.1, scale=0.5, shear=0.0, perspective=0.0, flipud=0.0, fliplr=0.5, bgr=0.0, mosaic=1.0, mixup=0.0, copy_paste=0.0, auto_augment=randaugment, erasing=0.4, crop_fraction=1.0, cfg=None, tracker=botsort.yaml, save_dir=runs\\classify\\train2\n",
      "\u001b[34m\u001b[1mtrain:\u001b[0m D:\\projects\\healthx\\dataset\\train... found 1815 images in 3 classes  \n",
      "\u001b[34m\u001b[1mval:\u001b[0m D:\\projects\\healthx\\dataset\\val... found 451 images in 3 classes  \n",
      "\u001b[34m\u001b[1mtest:\u001b[0m None...\n",
      "Overriding model.yaml nc=1000 with nc=3\n",
      "\n",
      "                   from  n    params  module                                       arguments                     \n",
      "  0                  -1  1      2320  ultralytics.nn.modules.conv.Conv             [3, 80, 3, 2]                 \n",
      "  1                  -1  1    115520  ultralytics.nn.modules.conv.Conv             [80, 160, 3, 2]               \n",
      "  2                  -1  3    436800  ultralytics.nn.modules.block.C2f             [160, 160, 3, True]           \n",
      "  3                  -1  1    461440  ultralytics.nn.modules.conv.Conv             [160, 320, 3, 2]              \n",
      "  4                  -1  6   3281920  ultralytics.nn.modules.block.C2f             [320, 320, 6, True]           \n",
      "  5                  -1  1   1844480  ultralytics.nn.modules.conv.Conv             [320, 640, 3, 2]              \n",
      "  6                  -1  6  13117440  ultralytics.nn.modules.block.C2f             [640, 640, 6, True]           \n",
      "  7                  -1  1   7375360  ultralytics.nn.modules.conv.Conv             [640, 1280, 3, 2]             \n",
      "  8                  -1  3  27865600  ultralytics.nn.modules.block.C2f             [1280, 1280, 3, True]         \n",
      "  9                  -1  1   1644803  ultralytics.nn.modules.head.Classify         [1280, 3]                     \n",
      "YOLOv8x-cls summary: 183 layers, 56,145,683 parameters, 56,145,683 gradients, 154.3 GFLOPs\n",
      "Transferred 300/302 items from pretrained weights\n"
     ]
    },
    {
     "name": "stderr",
     "output_type": "stream",
     "text": [
      "\u001b[34m\u001b[1mtrain: \u001b[0mScanning D:\\projects\\healthx\\dataset\\train... 1815 images, 0 corrupt: 100%|██████████| 1815/1815 [00:00<?, ?it/s\u001b[0m\n",
      "\u001b[34m\u001b[1mval: \u001b[0mScanning D:\\projects\\healthx\\dataset\\val... 451 images, 0 corrupt: 100%|██████████| 451/451 [00:00<?, ?it/s]\u001b[0m\n"
     ]
    },
    {
     "name": "stdout",
     "output_type": "stream",
     "text": [
      "\u001b[34m\u001b[1moptimizer:\u001b[0m 'optimizer=auto' found, ignoring 'lr0=0.01' and 'momentum=0.937' and determining best 'optimizer', 'lr0' and 'momentum' automatically... \n",
      "\u001b[34m\u001b[1moptimizer:\u001b[0m AdamW(lr=0.000714, momentum=0.9) with parameter groups 50 weight(decay=0.0), 51 weight(decay=0.0005), 51 bias(decay=0.0)\n",
      "Image sizes 224 train, 224 val\n",
      "Using 0 dataloader workers\n",
      "Logging results to \u001b[1mruns\\classify\\train2\u001b[0m\n",
      "Starting training for 10 epochs...\n",
      "\n",
      "      Epoch    GPU_mem       loss  Instances       Size\n"
     ]
    },
    {
     "name": "stderr",
     "output_type": "stream",
     "text": [
      "       1/10         0G     0.7405          7        224: 100%|██████████| 114/114 [16:32<00:00,  8.70s/it]\n",
      "               classes   top1_acc   top5_acc: 100%|██████████| 15/15 [00:52<00:00,  3.47s/it]"
     ]
    },
    {
     "name": "stdout",
     "output_type": "stream",
     "text": [
      "                   all      0.973          1\n"
     ]
    },
    {
     "name": "stderr",
     "output_type": "stream",
     "text": [
      "\n"
     ]
    },
    {
     "name": "stdout",
     "output_type": "stream",
     "text": [
      "\n",
      "      Epoch    GPU_mem       loss  Instances       Size\n"
     ]
    },
    {
     "name": "stderr",
     "output_type": "stream",
     "text": [
      "       2/10         0G     0.1834          7        224: 100%|██████████| 114/114 [16:00<00:00,  8.43s/it] \n",
      "               classes   top1_acc   top5_acc: 100%|██████████| 15/15 [00:51<00:00,  3.45s/it]"
     ]
    },
    {
     "name": "stdout",
     "output_type": "stream",
     "text": [
      "                   all      0.993          1\n"
     ]
    },
    {
     "name": "stderr",
     "output_type": "stream",
     "text": [
      "\n"
     ]
    },
    {
     "name": "stdout",
     "output_type": "stream",
     "text": [
      "\n",
      "      Epoch    GPU_mem       loss  Instances       Size\n"
     ]
    },
    {
     "name": "stderr",
     "output_type": "stream",
     "text": [
      "       3/10         0G     0.1193          7        224: 100%|██████████| 114/114 [10:52<00:00,  5.73s/it]\n",
      "               classes   top1_acc   top5_acc: 100%|██████████| 15/15 [00:50<00:00,  3.40s/it]"
     ]
    },
    {
     "name": "stdout",
     "output_type": "stream",
     "text": [
      "                   all      0.982          1\n"
     ]
    },
    {
     "name": "stderr",
     "output_type": "stream",
     "text": [
      "\n"
     ]
    },
    {
     "name": "stdout",
     "output_type": "stream",
     "text": [
      "\n",
      "      Epoch    GPU_mem       loss  Instances       Size\n"
     ]
    },
    {
     "name": "stderr",
     "output_type": "stream",
     "text": [
      "       4/10         0G    0.07807          7        224: 100%|██████████| 114/114 [10:46<00:00,  5.67s/it]\n",
      "               classes   top1_acc   top5_acc: 100%|██████████| 15/15 [00:51<00:00,  3.41s/it]"
     ]
    },
    {
     "name": "stdout",
     "output_type": "stream",
     "text": [
      "                   all      0.996          1\n"
     ]
    },
    {
     "name": "stderr",
     "output_type": "stream",
     "text": [
      "\n"
     ]
    },
    {
     "name": "stdout",
     "output_type": "stream",
     "text": [
      "\n",
      "      Epoch    GPU_mem       loss  Instances       Size\n"
     ]
    },
    {
     "name": "stderr",
     "output_type": "stream",
     "text": [
      "       5/10         0G    0.09855          7        224: 100%|██████████| 114/114 [11:02<00:00,  5.81s/it]\n",
      "               classes   top1_acc   top5_acc: 100%|██████████| 15/15 [00:51<00:00,  3.41s/it]"
     ]
    },
    {
     "name": "stdout",
     "output_type": "stream",
     "text": [
      "                   all      0.996          1\n"
     ]
    },
    {
     "name": "stderr",
     "output_type": "stream",
     "text": [
      "\n"
     ]
    },
    {
     "name": "stdout",
     "output_type": "stream",
     "text": [
      "\n",
      "      Epoch    GPU_mem       loss  Instances       Size\n"
     ]
    },
    {
     "name": "stderr",
     "output_type": "stream",
     "text": [
      "       6/10         0G    0.05051          7        224: 100%|██████████| 114/114 [11:16<00:00,  5.94s/it]\n",
      "               classes   top1_acc   top5_acc: 100%|██████████| 15/15 [00:52<00:00,  3.48s/it]"
     ]
    },
    {
     "name": "stdout",
     "output_type": "stream",
     "text": [
      "                   all      0.993          1\n"
     ]
    },
    {
     "name": "stderr",
     "output_type": "stream",
     "text": [
      "\n"
     ]
    },
    {
     "name": "stdout",
     "output_type": "stream",
     "text": [
      "\n",
      "      Epoch    GPU_mem       loss  Instances       Size\n"
     ]
    },
    {
     "name": "stderr",
     "output_type": "stream",
     "text": [
      "       7/10         0G    0.04097          7        224: 100%|██████████| 114/114 [11:26<00:00,  6.02s/it]\n",
      "               classes   top1_acc   top5_acc: 100%|██████████| 15/15 [00:54<00:00,  3.63s/it]"
     ]
    },
    {
     "name": "stdout",
     "output_type": "stream",
     "text": [
      "                   all      0.996          1\n"
     ]
    },
    {
     "name": "stderr",
     "output_type": "stream",
     "text": [
      "\n"
     ]
    },
    {
     "name": "stdout",
     "output_type": "stream",
     "text": [
      "\n",
      "      Epoch    GPU_mem       loss  Instances       Size\n"
     ]
    },
    {
     "name": "stderr",
     "output_type": "stream",
     "text": [
      "       8/10         0G    0.03636          7        224: 100%|██████████| 114/114 [11:28<00:00,  6.04s/it]\n",
      "               classes   top1_acc   top5_acc: 100%|██████████| 15/15 [00:55<00:00,  3.73s/it]"
     ]
    },
    {
     "name": "stdout",
     "output_type": "stream",
     "text": [
      "                   all          1          1\n"
     ]
    },
    {
     "name": "stderr",
     "output_type": "stream",
     "text": [
      "\n"
     ]
    },
    {
     "name": "stdout",
     "output_type": "stream",
     "text": [
      "\n",
      "      Epoch    GPU_mem       loss  Instances       Size\n"
     ]
    },
    {
     "name": "stderr",
     "output_type": "stream",
     "text": [
      "       9/10         0G    0.02085          7        224: 100%|██████████| 114/114 [11:50<00:00,  6.23s/it]\n",
      "               classes   top1_acc   top5_acc: 100%|██████████| 15/15 [00:53<00:00,  3.58s/it]"
     ]
    },
    {
     "name": "stdout",
     "output_type": "stream",
     "text": [
      "                   all      0.998          1\n"
     ]
    },
    {
     "name": "stderr",
     "output_type": "stream",
     "text": [
      "\n"
     ]
    },
    {
     "name": "stdout",
     "output_type": "stream",
     "text": [
      "\n",
      "      Epoch    GPU_mem       loss  Instances       Size\n"
     ]
    },
    {
     "name": "stderr",
     "output_type": "stream",
     "text": [
      "      10/10         0G    0.02267          7        224: 100%|██████████| 114/114 [11:01<00:00,  5.80s/it]\n",
      "               classes   top1_acc   top5_acc: 100%|██████████| 15/15 [00:53<00:00,  3.54s/it]"
     ]
    },
    {
     "name": "stdout",
     "output_type": "stream",
     "text": [
      "                   all      0.998          1\n"
     ]
    },
    {
     "name": "stderr",
     "output_type": "stream",
     "text": [
      "\n"
     ]
    },
    {
     "name": "stdout",
     "output_type": "stream",
     "text": [
      "\n",
      "10 epochs completed in 2.193 hours.\n",
      "Optimizer stripped from runs\\classify\\train2\\weights\\last.pt, 112.5MB\n",
      "Optimizer stripped from runs\\classify\\train2\\weights\\best.pt, 112.5MB\n",
      "\n",
      "Validating runs\\classify\\train2\\weights\\best.pt...\n",
      "Ultralytics YOLOv8.2.91  Python-3.11.9 torch-2.3.0 CPU (AMD Ryzen 7 4800H with Radeon Graphics)\n",
      "YOLOv8x-cls summary (fused): 133 layers, 56,127,043 parameters, 0 gradients, 153.8 GFLOPs\n",
      "\u001b[34m\u001b[1mtrain:\u001b[0m D:\\projects\\healthx\\dataset\\train... found 1815 images in 3 classes  \n",
      "\u001b[34m\u001b[1mval:\u001b[0m D:\\projects\\healthx\\dataset\\val... found 451 images in 3 classes  \n",
      "\u001b[34m\u001b[1mtest:\u001b[0m None...\n"
     ]
    },
    {
     "name": "stderr",
     "output_type": "stream",
     "text": [
      "               classes   top1_acc   top5_acc: 100%|██████████| 15/15 [00:43<00:00,  2.91s/it]\n"
     ]
    },
    {
     "name": "stdout",
     "output_type": "stream",
     "text": [
      "                   all          1          1\n",
      "Speed: 0.0ms preprocess, 92.4ms inference, 0.0ms loss, 0.0ms postprocess per image\n",
      "Results saved to \u001b[1mruns\\classify\\train2\u001b[0m\n",
      "Results saved to \u001b[1mruns\\classify\\train2\u001b[0m\n"
     ]
    }
   ],
   "source": [
    "from ultralytics import YOLO\n",
    "model = YOLO(\"yolov8x-cls.pt\")\n",
    "\n",
    "results = model.train(data= base_kaggle_path, epochs=10) "
   ]
  },
  {
   "cell_type": "code",
   "execution_count": 10,
   "id": "c68afa2b-46c8-4679-8057-88c12d05d7de",
   "metadata": {},
   "outputs": [
    {
     "name": "stdout",
     "output_type": "stream",
     "text": [
      "Ultralytics YOLOv8.2.91  Python-3.11.9 torch-2.3.0 CPU (AMD Ryzen 7 4800H with Radeon Graphics)\n",
      "YOLOv8x-cls summary (fused): 133 layers, 56,127,043 parameters, 0 gradients, 153.8 GFLOPs\n",
      "\u001b[34m\u001b[1mtrain:\u001b[0m D:\\projects\\healthx\\dataset\\train... found 1815 images in 3 classes  \n",
      "\u001b[34m\u001b[1mval:\u001b[0m D:\\projects\\healthx\\dataset\\val... found 451 images in 3 classes  \n",
      "\u001b[34m\u001b[1mtest:\u001b[0m None...\n"
     ]
    },
    {
     "name": "stderr",
     "output_type": "stream",
     "text": [
      "\u001b[34m\u001b[1mval: \u001b[0mScanning D:\\projects\\healthx\\dataset\\val... 451 images, 0 corrupt: 100%|██████████| 451/451 [00:00<?, ?it/s]\u001b[0m\n",
      "               classes   top1_acc   top5_acc: 100%|██████████| 29/29 [00:42<00:00,  1.47s/it]\n"
     ]
    },
    {
     "name": "stdout",
     "output_type": "stream",
     "text": [
      "                   all          1          1\n",
      "Speed: 0.0ms preprocess, 90.4ms inference, 0.0ms loss, 0.0ms postprocess per image\n",
      "Results saved to \u001b[1mruns\\classify\\train22\u001b[0m\n",
      "Top-1 accuracy: 100.00%\n",
      "Top-5 accuracy: 100.00%\n"
     ]
    }
   ],
   "source": [
    "# Evaluate the model\n",
    "metrics = model.val()\n",
    "print(f\"Top-1 accuracy: {metrics.top1:.2%}\")\n",
    "print(f\"Top-5 accuracy: {metrics.top5:.2%}\")"
   ]
  },
  {
   "cell_type": "code",
   "execution_count": 11,
   "id": "40a4bd80-112c-4257-8878-8ff94626d1ed",
   "metadata": {
    "tags": []
   },
   "outputs": [],
   "source": [
    "import matplotlib.pyplot as plt"
   ]
  },
  {
   "cell_type": "code",
   "execution_count": 12,
   "id": "d7ffd2a3-14e7-463d-9c25-60ef1db526eb",
   "metadata": {
    "tags": []
   },
   "outputs": [
    {
     "name": "stdout",
     "output_type": "stream",
     "text": [
      "\n",
      "Downloading https://thumbs.dreamstime.com/b/rotten-moldy-chicken-meat-bad-conditions-preservation-close-up-spoiled-food-fungus-illness-266104292.jpg to 'rotten-moldy-chicken-meat-bad-conditions-preservation-close-up-spoiled-food-fungus-illness-266104292.jpg'...\n"
     ]
    },
    {
     "name": "stderr",
     "output_type": "stream",
     "text": [
      "100%|█████████████████████████████████████████████████████████████████████████████| 54.1k/54.1k [00:00<00:00, 1.02MB/s]\n"
     ]
    },
    {
     "name": "stdout",
     "output_type": "stream",
     "text": [
      "image 1/1 D:\\projects\\healthx\\rotten-moldy-chicken-meat-bad-conditions-preservation-close-up-spoiled-food-fungus-illness-266104292.jpg: 224x224 SPOILED 0.71, FRESH 0.29, USABLE 0.00, 238.0ms\n",
      "Speed: 25.2ms preprocess, 238.0ms inference, 0.0ms postprocess per image at shape (1, 3, 224, 224)\n"
     ]
    }
   ],
   "source": [
    "from PIL import Image\n",
    "\n",
    "# Predict on a sample image\n",
    "prediksi = model(\"https://thumbs.dreamstime.com/b/rotten-moldy-chicken-meat-bad-conditions-preservation-close-up-spoiled-food-fungus-illness-266104292.jpg\")"
   ]
  },
  {
   "cell_type": "code",
   "execution_count": 14,
   "id": "c92aeb38-4068-4b98-af78-3595ba9a4a41",
   "metadata": {
    "tags": []
   },
   "outputs": [],
   "source": [
    "# Assuming `model` is your YOLOv8 model\n",
    "model.save(\"meat_model.pt\")  # Saves the entire model\n"
   ]
  },
  {
   "cell_type": "code",
   "execution_count": 15,
   "id": "b881acc0-a460-422c-ac4c-fa734d4b7108",
   "metadata": {
    "tags": []
   },
   "outputs": [],
   "source": [
    "import numpy as np"
   ]
  },
  {
   "cell_type": "code",
   "execution_count": 1,
   "id": "bd874818-441b-4164-bfba-06c970d91164",
   "metadata": {},
   "outputs": [],
   "source": [
    "from ultralytics import YOLO\n",
    "model = YOLO(\"meat_model.pt\")"
   ]
  },
  {
   "cell_type": "code",
   "execution_count": 2,
   "id": "be5dac2f-204b-4f01-a578-f62160a296fa",
   "metadata": {
    "tags": []
   },
   "outputs": [
    {
     "name": "stdout",
     "output_type": "stream",
     "text": [
      "\n",
      "image 1/1 D:\\projects\\healthx\\Meat Freshness.v1-new-dataset.multiclass\\valid\\HALF-FRESH-402-_JPG.rf.739bb0cf15fc5d01a5bd6bb01eef4ec7.jpg: 224x224 USABLE 1.00, SPOILED 0.00, FRESH 0.00, 203.2ms\n",
      "Speed: 49.8ms preprocess, 203.2ms inference, 0.0ms postprocess per image at shape (1, 3, 224, 224)\n"
     ]
    }
   ],
   "source": [
    "# Now you can use the model for inference\n",
    "results = model(\"Meat Freshness.v1-new-dataset.multiclass/valid/HALF-FRESH-402-_JPG.rf.739bb0cf15fc5d01a5bd6bb01eef4ec7.jpg\")\n"
   ]
  },
  {
   "cell_type": "code",
   "execution_count": 3,
   "id": "e00a2d5d-e5a2-428e-bfb2-6627d35c71f5",
   "metadata": {
    "tags": []
   },
   "outputs": [
    {
     "name": "stdout",
     "output_type": "stream",
     "text": [
      "{0: 'FRESH', 1: 'SPOILED', 2: 'USABLE'}\n"
     ]
    }
   ],
   "source": [
    "name_out= results[0].names\n",
    "print(name_out)"
   ]
  },
  {
   "cell_type": "code",
   "execution_count": 4,
   "id": "6b292285-2689-4aff-bcd1-089015e50d1b",
   "metadata": {
    "tags": []
   },
   "outputs": [
    {
     "name": "stdout",
     "output_type": "stream",
     "text": [
      "The predicted category is: USABLE\n"
     ]
    }
   ],
   "source": [
    "top1_class_index = results[0].probs.top1\n",
    "predicted_category = name_out[top1_class_index]\n",
    "print(f\"The predicted category is: {predicted_category}\")"
   ]
  },
  {
   "cell_type": "code",
   "execution_count": null,
   "id": "bf9c3b5c-36ca-4368-8586-faa83a5b3319",
   "metadata": {},
   "outputs": [],
   "source": []
  }
 ],
 "metadata": {
  "kernelspec": {
   "display_name": "healthx",
   "language": "python",
   "name": "healthx"
  },
  "language_info": {
   "codemirror_mode": {
    "name": "ipython",
    "version": 3
   },
   "file_extension": ".py",
   "mimetype": "text/x-python",
   "name": "python",
   "nbconvert_exporter": "python",
   "pygments_lexer": "ipython3",
   "version": "3.11.9"
  }
 },
 "nbformat": 4,
 "nbformat_minor": 5
}
